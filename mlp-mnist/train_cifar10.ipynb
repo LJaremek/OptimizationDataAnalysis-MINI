{
 "cells": [
  {
   "cell_type": "code",
   "execution_count": null,
   "metadata": {},
   "outputs": [],
   "source": [
    "from time import time\n",
    "\n",
    "import matplotlib.pyplot as plt\n",
    "import torch.optim as optim\n",
    "import torch.nn as nn\n",
    "import pandas as pd\n",
    "import torch\n",
    "\n",
    "from model_cifar10 import ConvNetBinary, ConvNetClassic\n",
    "from cifar10_tools import train, test\n",
    "from datasets import CIFAR10\n"
   ]
  },
  {
   "cell_type": "code",
   "execution_count": null,
   "metadata": {},
   "outputs": [],
   "source": [
    "device = torch.device(\"cuda\" if torch.cuda.is_available() else \"cpu\")\n",
    "batch_size = 256\n",
    "epochs = 10\n",
    "lr = 0.0001\n"
   ]
  },
  {
   "cell_type": "code",
   "execution_count": null,
   "metadata": {},
   "outputs": [],
   "source": [
    "optimizers = {\n",
    "    \"Adam\": optim.Adam,\n",
    "    \"AdaMax\": optim.Adamax,\n",
    "    \"AdaDelta\": optim.Adadelta\n",
    "}\n",
    "\n",
    "models = {\n",
    "    \"Classic\": ConvNetClassic,\n",
    "    \"Binary\": ConvNetBinary\n",
    "}\n"
   ]
  },
  {
   "cell_type": "code",
   "execution_count": null,
   "metadata": {},
   "outputs": [],
   "source": [
    "train_kwargs = {\"batch_size\": batch_size}\n",
    "test_kwargs = {\"batch_size\": batch_size}\n",
    "\n",
    "if device == \"cuda\":\n",
    "    cuda_kwargs = {\n",
    "        \"num_workers\": 1,\n",
    "        \"pin_memory\": True,\n",
    "        \"shuffle\": True\n",
    "        }\n",
    "\n",
    "    train_kwargs.update(cuda_kwargs)\n",
    "    test_kwargs.update(cuda_kwargs)\n",
    "\n",
    "train_dataset, test_dataset = CIFAR10.get_train_and_test(\n",
    "    \"./cifar10\",\n",
    "    download=True\n",
    "    )\n",
    "\n",
    "train_loader = torch.utils.data.DataLoader(train_dataset, **train_kwargs)\n",
    "test_loader = torch.utils.data.DataLoader(test_dataset, **test_kwargs)\n"
   ]
  },
  {
   "cell_type": "code",
   "execution_count": null,
   "metadata": {},
   "outputs": [],
   "source": [
    "results = []\n",
    "\n",
    "for model_name, model_class in models.items():\n",
    "    for optimizer_name, optimizer in optimizers.items():\n",
    "        criterion = nn.CrossEntropyLoss()\n",
    "        model_inctance = model_class().to(device)\n",
    "        optimizer = optimizer(model_inctance.parameters(), lr=lr)\n",
    "\n",
    "        for epoch in range(1, epochs+1):\n",
    "\n",
    "            start_train_time = time()\n",
    "            train_loss, train_acc = train(\n",
    "                model_inctance, optimizer, criterion, train_loader, device, epoch\n",
    "                )\n",
    "            train_time = time() - start_train_time\n",
    "\n",
    "            start_test_time = time()\n",
    "            test_loss, test_acc = test(\n",
    "                model_inctance, criterion, test_loader, device\n",
    "                )\n",
    "            test_time = time() - start_train_time\n",
    "\n",
    "            results.append({\n",
    "                \"model_name\": model_name,\n",
    "                \"optimizer_name\": optimizer_name,\n",
    "                \"epoch\": epoch,\n",
    "                \"train_loss\": train_loss,\n",
    "                \"train_acc\": train_acc,\n",
    "                \"test_loss\": test_loss,\n",
    "                \"test_acc\": test_acc,\n",
    "                \"epoch_train_time\": train_time,\n",
    "                \"epoch_test_time\": test_time\n",
    "            })\n",
    "\n",
    "df_results = pd.DataFrame(results)\n",
    "df_results.to_csv(\"cifar10_results.csv\", index=False)\n"
   ]
  }
 ],
 "metadata": {
  "kernelspec": {
   "display_name": "base",
   "language": "python",
   "name": "python3"
  },
  "language_info": {
   "codemirror_mode": {
    "name": "ipython",
    "version": 3
   },
   "file_extension": ".py",
   "mimetype": "text/x-python",
   "name": "python",
   "nbconvert_exporter": "python",
   "pygments_lexer": "ipython3",
   "version": "3.10.14"
  }
 },
 "nbformat": 4,
 "nbformat_minor": 2
}
