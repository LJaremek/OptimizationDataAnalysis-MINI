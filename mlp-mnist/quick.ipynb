{
 "cells": [
  {
   "cell_type": "code",
   "execution_count": 17,
   "metadata": {},
   "outputs": [
    {
     "name": "stdout",
     "output_type": "stream",
     "text": [
      "Downloading http://ufldl.stanford.edu/housenumbers/train_32x32.mat to ../svhn\\train_32x32.mat\n"
     ]
    },
    {
     "name": "stderr",
     "output_type": "stream",
     "text": [
      " 12%|█▏        | 21757952/182040794 [00:33<04:39, 573220.64it/s]"
     ]
    }
   ],
   "source": [
    "import torch\n",
    "from torchvision import datasets, transforms\n",
    "\n",
    "# Define the transform to convert the images to tensor\n",
    "transform = transforms.ToTensor()\n",
    "\n",
    "# Load the CIFAR-10 training dataset\n",
    "train_dataset = datasets.SVHN(root='../svhn/train', split = \"train\", download=True, transform=transform)\n",
    "\n",
    "# Initialize variables to store the sum and count of pixel values\n",
    "sum_rgb = torch.tensor([0.0, 0.0, 0.0])\n",
    "count = 0\n",
    "\n",
    "# Iterate over the dataset to compute the mean\n",
    "for img, _ in train_dataset:\n",
    "    sum_rgb += img.sum(dim=[1, 2])\n",
    "    count += img.numel() / 3  # img.numel() gives total number of elements in img, divide by 3 for RGB channels\n",
    "\n",
    "# Calculate the mean\n",
    "mean_rgb = sum_rgb / count\n",
    "\n",
    "# Initialize variables to store the sum of squared differences\n",
    "sum_squared_diff = torch.tensor([0.0, 0.0, 0.0])\n",
    "\n",
    "# Iterate over the dataset again to compute the sum of squared differences from the mean\n",
    "for img, _ in train_dataset:\n",
    "    sum_squared_diff += ((img - mean_rgb.view(3, 1, 1)) ** 2).sum(dim=[1, 2])\n",
    "\n",
    "# Calculate the variance\n",
    "variance_rgb = sum_squared_diff / count\n",
    "\n",
    "# Calculate the standard deviation\n",
    "std_rgb = torch.sqrt(variance_rgb)\n",
    "\n",
    "print(f\"Mean: {mean_rgb}\")\n",
    "print(f\"Standard Deviation: {std_rgb}\")"
   ]
  }
 ],
 "metadata": {
  "language_info": {
   "name": "python"
  }
 },
 "nbformat": 4,
 "nbformat_minor": 2
}
